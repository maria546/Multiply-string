{
 "cells": [
  {
   "cell_type": "code",
   "execution_count": 2,
   "metadata": {},
   "outputs": [
    {
     "name": "stdout",
     "output_type": "stream",
     "text": [
      "XYZ 613 Isb\n"
     ]
    }
   ],
   "source": [
    "num = 613\n",
    "message = '''XYZ %s Isb'''\n",
    "print(message % num)"
   ]
  },
  {
   "cell_type": "code",
   "execution_count": 6,
   "metadata": {},
   "outputs": [
    {
     "name": "stdout",
     "output_type": "stream",
     "text": [
      "40\n"
     ]
    }
   ],
   "source": [
    "nums = 0,8\n",
    "print( 'What did the number %s say to the number %s? Nice belt!!' %nums)\n",
    "\n",
    "\n"
   ]
  },
  {
   "cell_type": "code",
   "execution_count": 12,
   "metadata": {},
   "outputs": [
    {
     "name": "stdout",
     "output_type": "stream",
     "text": [
      "Teacher\n",
      "       in high school\n"
     ]
    }
   ],
   "source": []
  },
  {
   "cell_type": "code",
   "execution_count": 13,
   "metadata": {},
   "outputs": [
    {
     "name": "stdout",
     "output_type": "stream",
     "text": [
      "He said, \"Aren't can't shouldn't wouldn't.\"\n"
     ]
    }
   ],
   "source": [
    "\n"
   ]
  },
  {
   "cell_type": "code",
   "execution_count": 17,
   "metadata": {},
   "outputs": [
    {
     "name": "stdout",
     "output_type": "stream",
     "text": [
      "Imam bargah Hussainia ward no 613 pindigheb\n"
     ]
    }
   ],
   "source": []
  },
  {
   "cell_type": "code",
   "execution_count": 19,
   "metadata": {},
   "outputs": [
    {
     "name": "stdout",
     "output_type": "stream",
     "text": [
      "What did the number 0 say to the number 8? Nice belt!!\n"
     ]
    }
   ],
   "source": []
  },
  {
   "cell_type": "code",
   "execution_count": 22,
   "metadata": {},
   "outputs": [
    {
     "name": "stdout",
     "output_type": "stream",
     "text": [
      "what is the number 0 to the number 8?\n"
     ]
    }
   ],
   "source": [
    "num = 0,8\n",
    "mes = \"what is the number %s to the number %s?\"\n",
    "print(mes %num)"
   ]
  },
  {
   "cell_type": "code",
   "execution_count": 3,
   "metadata": {},
   "outputs": [
    {
     "name": "stdout",
     "output_type": "stream",
     "text": [
      "                          Application For Leave\n",
      "To,\n",
      "The principal\n",
      "Govt college \n",
      "XYZ.\n",
      "\n",
      "\n",
      "Sir,\n",
      "\n",
      "With due respect It is stated that I have an urgent piece of work at home. \n",
      "So I can't come to college. Kindly grant me leave for one day \n",
      "I shall be very thankfull to you.\n",
      "\n",
      "Your's obediently\n",
      "ABC\n",
      "Number= 302889\n"
     ]
    }
   ],
   "source": [
    "spaces=' '*25\n",
    "print('%s Application For Leave' %spaces)\n",
    "print('To,')\n",
    "print(\"The principal\")\n",
    "print('Govt college ')\n",
    "print(\"XYZ.\")\n",
    "print()\n",
    "print()\n",
    "print('Sir,')\n",
    "print()\n",
    "print('With due respect It is stated that I have an urgent piece of work at home. ')\n",
    "print('So I can\\'t come to college. Kindly grant me leave for one day ')\n",
    "print('I shall be very thankfull to you.')\n",
    "print()\n",
    "\n",
    "print('Your\\'s obediently')\n",
    "print(\"ABC\")\n",
    "Num = 302889\n",
    "message = 'Number= %s'\n",
    "print(message %Num)\n"
   ]
  },
  {
   "cell_type": "code",
   "execution_count": null,
   "metadata": {},
   "outputs": [],
   "source": []
  }
 ],
 "metadata": {
  "kernelspec": {
   "display_name": "Python 3",
   "language": "python",
   "name": "python3"
  },
  "language_info": {
   "codemirror_mode": {
    "name": "ipython",
    "version": 3
   },
   "file_extension": ".py",
   "mimetype": "text/x-python",
   "name": "python",
   "nbconvert_exporter": "python",
   "pygments_lexer": "ipython3",
   "version": "3.7.4"
  }
 },
 "nbformat": 4,
 "nbformat_minor": 2
}
