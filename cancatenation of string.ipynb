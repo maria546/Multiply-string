{
 "cells": [
  {
   "cell_type": "code",
   "execution_count": 5,
   "metadata": {},
   "outputs": [
    {
     "name": "stdout",
     "output_type": "stream",
     "text": [
      "aaaaaaaaaa\n"
     ]
    }
   ],
   "source": [
    "# Multiply string\n",
    "print(10 * 'a')\n"
   ]
  },
  {
   "cell_type": "code",
   "execution_count": 13,
   "metadata": {},
   "outputs": [
    {
     "name": "stdout",
     "output_type": "stream",
     "text": [
      "60\n"
     ]
    }
   ],
   "source": [
    "# concatination of string\n",
    "Ali_coins = 10 \n",
    "Fahad_coins = 20 \n",
    "Abdullah_coins = 30\n",
    "print(Ali_coins+Fahad_coins+Abdullah_coins)"
   ]
  },
  {
   "cell_type": "code",
   "execution_count": 14,
   "metadata": {},
   "outputs": [
    {
     "name": "stdout",
     "output_type": "stream",
     "text": [
      "Number= 3444123678\n"
     ]
    }
   ],
   "source": [
    "show_num =3444123678\n",
    "message= 'Number= %s'\n",
    "print(message %show_num ) # To show message with number \n",
    "    "
   ]
  },
  {
   "cell_type": "code",
   "execution_count": 16,
   "metadata": {},
   "outputs": [
    {
     "name": "stdout",
     "output_type": "stream",
     "text": [
      "                          Application For Leave\n",
      "To,\n",
      "The principal\n",
      "Govt college \n",
      "XYZ.\n",
      "\n",
      "\n",
      "Sir,\n",
      "\n",
      "With due respect It is stated that I have an urgent piece of work at home. \n",
      "So I can't come to college. Kindly grant me leave for one day \n",
      "I shall be very thankfull to you.\n",
      "\n",
      "Your's obediently\n",
      "ABC\n",
      "Number= 302889\n"
     ]
    }
   ],
   "source": [
    " # print spaces\n",
    "spaces=' '*25\n",
    "print('%s Application For Leave' %spaces)\n",
    "print('To,')\n",
    "print(\"The principal\")\n",
    "print('Govt college ')\n",
    "print(\"XYZ.\")\n",
    "print()\n",
    "print()\n",
    "print('Sir,')\n",
    "print()\n",
    "print('With due respect It is stated that I have an urgent piece of work at home. ')\n",
    "print('So I can\\'t come to college. Kindly grant me leave for one day ')\n",
    "print('I shall be very thankfull to you.')\n",
    "print()\n",
    "\n",
    "print('Your\\'s obediently')\n",
    "print(\"ABC\")\n",
    "Num = 302889\n",
    "message = 'Number= %s'\n",
    "print(message %Num)\n",
    "\n"
   ]
  },
  {
   "cell_type": "code",
   "execution_count": null,
   "metadata": {},
   "outputs": [],
   "source": []
  }
 ],
 "metadata": {
  "kernelspec": {
   "display_name": "Python 3",
   "language": "python",
   "name": "python3"
  },
  "language_info": {
   "codemirror_mode": {
    "name": "ipython",
    "version": 3
   },
   "file_extension": ".py",
   "mimetype": "text/x-python",
   "name": "python",
   "nbconvert_exporter": "python",
   "pygments_lexer": "ipython3",
   "version": "3.7.4"
  }
 },
 "nbformat": 4,
 "nbformat_minor": 2
}
